{
 "cells": [
  {
   "cell_type": "code",
   "execution_count": 1,
   "id": "passive-talent",
   "metadata": {},
   "outputs": [],
   "source": [
    "import numpy as np\n",
    "import matplotlib \n",
    "import matplotlib.pyplot as plt\n",
    "\n",
    "epsilon_0=55.26349406E-4         # Vacuum permitivitty in e² eV⁻¹ Å⁻¹\n",
    "K_electric=1/(4*np.pi*epsilon_0) # Electric constant in eV Å e⁻²"
   ]
  },
  {
   "cell_type": "markdown",
   "id": "capable-respondent",
   "metadata": {},
   "source": [
    "# TEST 1: Ion inside a rocksalt structure."
   ]
  },
  {
   "cell_type": "code",
   "execution_count": 2,
   "id": "tracked-montana",
   "metadata": {},
   "outputs": [
    {
     "name": "stdout",
     "output_type": "stream",
     "text": [
      "0 0\n",
      "1 -2.1335207792784368\n",
      "2 -1.516646336266923\n",
      "3 -1.9125039789591567\n",
      "4 -1.6192696788703898\n",
      "5 -1.852535490412281\n",
      "6 -1.6587422894726997\n",
      "7 -1.8245442337282207\n",
      "8 -1.6796412454744765\n",
      "9 -1.8083381857782097\n",
      "10 -1.6925789282594415\n",
      "11 -1.7977689192231834\n",
      "12 -1.701376603826924\n",
      "13 -1.7903312603332933\n",
      "14 -1.7077473493105542\n"
     ]
    }
   ],
   "source": [
    "def madelung_rocksalt1(threshold_x=10,threshold_y=10,threshold_z=10) : \n",
    "    \"\"\" Calculates the madelung constant for a cubic cell \"\"\" \n",
    "    summ=0\n",
    "    for i in range(-threshold_x,threshold_x+1) :\n",
    "        for j in range(-threshold_y,threshold_y+1) : \n",
    "            for k in range(-threshold_z,threshold_z+1) : \n",
    "                if (i,j,k)!=(0,0,0) : \n",
    "                    summ+=((-1)**(i+j+k))/np.sqrt(i**2+j**2+k**2)\n",
    "    return summ \n",
    "\n",
    "for threshold in range(0,15) : \n",
    "    print(threshold , madelung_rocksalt1(threshold, threshold, threshold))"
   ]
  },
  {
   "cell_type": "markdown",
   "id": "median-hormone",
   "metadata": {},
   "source": [
    "#### Conclussion:\n",
    "Expansions with predominance of either possitive or negative ions gets convergence slow. Average between the last two and it should converge faster "
   ]
  },
  {
   "cell_type": "code",
   "execution_count": 3,
   "id": "artificial-keyboard",
   "metadata": {},
   "outputs": [
    {
     "name": "stdout",
     "output_type": "stream",
     "text": [
      "0 0 0.0\n",
      "1 -2.1335207792784368 -1.0667603896392184\n",
      "2 -1.516646336266923 -1.8250835577726798\n",
      "3 -1.9125039789591567 -1.71457515761304\n",
      "4 -1.6192696788703898 -1.7658868289147733\n",
      "5 -1.852535490412281 -1.7359025846413354\n",
      "6 -1.6587422894726997 -1.7556388899424904\n",
      "7 -1.8245442337282207 -1.7416432616004602\n",
      "8 -1.6796412454744765 -1.7520927396013486\n",
      "9 -1.8083381857782097 -1.743989715626343\n",
      "10 -1.6925789282594415 -1.7504585570188256\n",
      "11 -1.7977689192231834 -1.7451739237413124\n",
      "12 -1.701376603826924 -1.7495727615250538\n",
      "13 -1.7903312603332933 -1.7458539320801085\n",
      "14 -1.7077473493105542 -1.7490393048219237\n"
     ]
    }
   ],
   "source": [
    "summ=0\n",
    "old=0\n",
    "for threshold in range(0,15) :\n",
    "    summ=madelung_rocksalt1(threshold, threshold, threshold)\n",
    "    avg=0.5*(summ+old)\n",
    "    old=summ\n",
    "    print(threshold,summ,avg )"
   ]
  },
  {
   "cell_type": "markdown",
   "id": "assigned-arabic",
   "metadata": {},
   "source": [
    "#### Conclussion: \n",
    "Still slow convergence, but we have three significant digits. "
   ]
  },
  {
   "cell_type": "markdown",
   "id": "humanitarian-victorian",
   "metadata": {},
   "source": [
    "### Test 2: ion atop a rocksalt structure. Pseudomadelung. "
   ]
  },
  {
   "cell_type": "code",
   "execution_count": 4,
   "id": "horizontal-median",
   "metadata": {},
   "outputs": [
    {
     "data": {
      "text/plain": [
       "Text(0, 0.5, 'Pseudo-Madelung_constant / -')"
      ]
     },
     "execution_count": 4,
     "metadata": {},
     "output_type": "execute_result"
    },
    {
     "data": {
      "image/png": "[encoded data removed]",
      "text/plain": [
       "<Figure size 432x288 with 1 Axes>"
      ]
     },
     "metadata": {
      "needs_background": "light"
     },
     "output_type": "display_data"
    }
   ],
   "source": [
    "def madelung_rocksalt2(threshold_x=10,threshold_y=10,threshold_z=10) : \n",
    "    \"\"\" Calculates the madelung constant for an ion sitting on an infinite cube\"\"\" \n",
    "    summ=0\n",
    "    for i in range(-threshold_x,threshold_x+1) :\n",
    "        for j in range(-threshold_y,threshold_y+1) :\n",
    "            # Now we start from 1! \"If\" sentence not longer needed. \n",
    "            for k in range(1,threshold_z+2) : \n",
    "                summ+=((-1)**(i+j+k))/np.sqrt(i**2+j**2+k**2)\n",
    "    return summ \n",
    "\n",
    "summ=0\n",
    "old=0\n",
    "x_mad2=[]\n",
    "y_mad2s=[]\n",
    "y_mad2a=[]\n",
    "for threshold in range(0,30) :\n",
    "    summ=madelung_rocksalt2(threshold, threshold, threshold)\n",
    "    avg=0.5*(summ+old)\n",
    "    old=summ\n",
    "    #print(threshold,summ,avg)\n",
    "    x_mad2.append(1.0/(threshold+1.0))\n",
    "    y_mad2s.append(summ)\n",
    "    y_mad2a.append(avg)\n",
    "\n",
    "fig2,plot_mad2=plt.subplots()\n",
    "plot_mad2.plot(x_mad2, y_mad2a, 'o', color='black', label='Average_last_2_Sums')\n",
    "plot_mad2.plot(x_mad2, y_mad2s, 'o', color='red',   label='Sum_until_threshold')\n",
    "plot_mad2.legend()\n",
    "plot_mad2.set_xlabel('Cell_units_threshold^-1 / -')\n",
    "plot_mad2.set_ylabel('Pseudo-Madelung_constant / -')"
   ]
  },
  {
   "cell_type": "markdown",
   "id": "yellow-composition",
   "metadata": {},
   "source": [
    "#### Conclussion: \n",
    "The numbers tend to go down with a very slow convergence! \n",
    "\n",
    "I would expect something around 1/3 the previous value (0.58)\n",
    "\n",
    "Yet, I am getting 1 order of magnitude less stabilization. \n",
    "\n",
    "Explanation, only on the top plane: \n",
    "\n",
    "- My first neighbour attracts (0,0). \n",
    "\n",
    "- Then, four neighbours repel me (±1,0) (0,±1).    \n",
    "\n",
    "- Then, four neighbours attract me, but they are farther (±1,±1). \n",
    "\n",
    "- \"avg\" converges asymptotically as a function of 1/threshold from the 10th term. \n"
   ]
  },
  {
   "cell_type": "code",
   "execution_count": 5,
   "id": "indian-spouse",
   "metadata": {},
   "outputs": [],
   "source": [
    "#summ=0\n",
    "#old=0\n",
    "#for threshold in range(0,30) :\n",
    "#    summ=madelung_rocksalt2(2*threshold, 2*threshold, threshold)\n",
    "#    avg=0.5*(summ+old)\n",
    "#    old=summ\n",
    "#    print(threshold,summ,avg )\n",
    "#    \n",
    "#print(\"Trying cubic column\")\n",
    "#summ=0\n",
    "#old=0\n",
    "#for threshold in range(0,30) :\n",
    "#    summ=madelung_rocksalt2(threshold, threshold, 2*threshold)\n",
    "#    avg=0.5*(summ+old)\n",
    "#    old=summ\n",
    "#    print(threshold,summ,avg )       "
   ]
  },
  {
   "cell_type": "markdown",
   "id": "prescription-democracy",
   "metadata": {},
   "source": [
    "### Test 3: Separate the sumation in a fixed part and the adsorbate.\n",
    "Now the adsorbate will be fixed. However, the represented cell won't be symmetric! "
   ]
  },
  {
   "cell_type": "code",
   "execution_count": 6,
   "id": "stuck-olympus",
   "metadata": {},
   "outputs": [
    {
     "data": {
      "text/plain": [
       "Text(0, 0.5, 'Pseudo-Madelung_constant / -')"
      ]
     },
     "execution_count": 6,
     "metadata": {},
     "output_type": "execute_result"
    },
    {
     "data": {
      "image/png": "[encoded data removed]",
      "text/plain": [
       "<Figure size 432x288 with 1 Axes>"
      ]
     },
     "metadata": {
      "needs_background": "light"
     },
     "output_type": "display_data"
    }
   ],
   "source": [
    "def madelung_rocksalt3(ads,ions,threshold_x=10,threshold_y=10,threshold_z=10) : \n",
    "    \"\"\" Calculates the madelung constant for an adsorbate on an extended cube.\n",
    "        Ions of each unit cell fed appart\n",
    "        Position of the contact ion is (0,0,0)\n",
    "        cell multiplied manually by 2×2×2\"\"\" \n",
    "     \n",
    "    #print(ions)\n",
    "    summ=0\n",
    "    for ion in ions: \n",
    "        #print(ion)\n",
    "        for i in range(-threshold_x,threshold_x+1) :\n",
    "            for j in range(-threshold_y,threshold_y+1) : \n",
    "                for k in range(0,threshold_z+1) : \n",
    "                    summ+=ads[0]*ion[0]/np.sqrt(( 2.0*(i+ion[1]-ads[1]) )**2+\\\n",
    "                                               ( 2.0*(j+ion[2]-ads[2]) )**2+\\\n",
    "                                               ( 2.0*(k+ion[3]-ads[3]) )**2  )\n",
    "    return summ \n",
    "\n",
    "ions=[np.array([-1.0,0.0,0.0,0.0]),\\\n",
    "      np.array([ 1.0,0.5,0.0,0.0]),\\\n",
    "      np.array([ 1.0,0.0,0.5,0.0]),\\\n",
    "      np.array([ 1.0,0.0,0.0,0.5]),\\\n",
    "      np.array([-1.0,0.5,0.5,0.0]),\\\n",
    "      np.array([-1.0,0.0,0.5,0.5]),\\\n",
    "      np.array([-1.0,0.5,0.0,0.5]),\\\n",
    "      np.array([ 1.0,0.5,0.5,0.5])]\n",
    "\n",
    "adsorbate=np.array([1.0,0.0,0.0,-0.5]) # charge, x, y, z \n",
    "\n",
    "x_mad3=[]\n",
    "y_mad3=[]\n",
    "for threshold in range(0,30) : \n",
    "    #print(threshold,madelung_rocksalt3(adsorbate,ions,threshold, threshold, threshold))\n",
    "    x_mad3.append(1.0/(threshold+1.0))\n",
    "    y_mad3.append(madelung_rocksalt3(adsorbate,ions,threshold, threshold, threshold))\n",
    "    \n",
    "fig3,plot_mad3=plt.subplots()\n",
    "plot_mad3.plot(x_mad2, y_mad2a, 'o', color='red',  label='Average_last_2_Sums-old')\n",
    "plot_mad3.plot(x_mad3, y_mad3,  'o', color='blue', label='New summation')\n",
    "plot_mad3.legend()\n",
    "plot_mad3.set_xlabel('Cell_units_threshold^-1 / -')\n",
    "plot_mad3.set_ylabel('Pseudo-Madelung_constant / -')"
   ]
  },
  {
   "cell_type": "markdown",
   "id": "important-european",
   "metadata": {},
   "source": [
    "#### Conclussions\n",
    "- It gives the same result that the averaging+extrapolation tried before. \n",
    "- It converges very early: threshold=3.  \n",
    "- It does not require extrapolations! \n",
    "#### Now let us move from dimentionless Madelung to electrons-angstrom units."
   ]
  },
  {
   "cell_type": "code",
   "execution_count": 7,
   "id": "noted-institution",
   "metadata": {},
   "outputs": [
    {
     "data": {
      "text/plain": [
       "Text(0, 0.5, 'Electric energy / eV')"
      ]
     },
     "execution_count": 7,
     "metadata": {},
     "output_type": "execute_result"
    },
    {
     "data": {
      "image/png": "[encoded data removed]",
      "text/plain": [
       "<Figure size 432x288 with 1 Axes>"
      ]
     },
     "metadata": {
      "needs_background": "light"
     },
     "output_type": "display_data"
    }
   ],
   "source": [
    "def madelung_rocksalt4(adsorbates,ions,cell,threshold_x=10,threshold_y=10,threshold_z=10) : \n",
    "    \"\"\" Calculates the madelung constant for an adsorbate on an extended cube.\n",
    "        Ions of each unit cell fed appart\n",
    "        Position of the contact ion is (0,0,0)\n",
    "        cell multiplied manually by 2×2×2\"\"\" \n",
    "     \n",
    "    summ=0\n",
    "    for ads in adsorbates: \n",
    "         for ion in ions: \n",
    "            for i in range(-threshold_x,threshold_x+1) :\n",
    "                for j in range(-threshold_y,threshold_y+1) : \n",
    "                    for k in range(0,threshold_z+1) : \n",
    "                        # calculate distance vector in direct, cartesian, and energy. \n",
    "                        v_d=(i+ion[1]-ads[1],j+ion[2]-ads[2],k+ion[3]-ads[3])\n",
    "                        v_c=(cell[0][0]*v_d[0]+cell[1][0]*v_d[1]+cell[2][0]*v_d[2],\n",
    "                             cell[0][1]*v_d[0]+cell[1][1]*v_d[1]+cell[2][1]*v_d[2],\n",
    "                             cell[0][2]*v_d[0]+cell[1][2]*v_d[1]+cell[2][2]*v_d[2])\n",
    "                        summ+=ads[0]*ion[0]/np.sqrt(v_c[0]**2+v_c[1]**2+v_c[2]**2)\n",
    "    summ=K_electric*summ # Without this term, this graph and the previous superposes. \n",
    "    return summ \n",
    "\n",
    "adss=[np.array([1.0,0.0,0.0,-0.5])] # charge, x, y, z \n",
    "\n",
    "ions=[np.array([-1.0,0.0,0.0,0.0]),\\\n",
    "      np.array([ 1.0,0.5,0.0,0.0]),\\\n",
    "      np.array([ 1.0,0.0,0.5,0.0]),\\\n",
    "      np.array([ 1.0,0.0,0.0,0.5]),\\\n",
    "      np.array([-1.0,0.5,0.5,0.0]),\\\n",
    "      np.array([-1.0,0.0,0.5,0.5]),\\\n",
    "      np.array([-1.0,0.5,0.0,0.5]),\\\n",
    "      np.array([ 1.0,0.5,0.5,0.5])]\n",
    "\n",
    "latt=[np.array([ 2.0, 0.0, 0.0]),\\\n",
    "      np.array([ 0.0, 2.0, 0.0]),\\\n",
    "      np.array([ 0.0, 0.0, 2.0])]\n",
    "\n",
    "x_mad4=[]\n",
    "y_mad4=[]\n",
    "for threshold in range(0,20) : \n",
    "    x_mad4.append(1.0/(threshold+1.0))\n",
    "    y_mad4.append(madelung_rocksalt4(adss,ions,latt,threshold,threshold,threshold))\n",
    "    \n",
    "fig4,plot_mad4=plt.subplots()\n",
    "plot_mad4.plot(x_mad3, y_mad3, 'x', color='blue',  label='Without-units')\n",
    "plot_mad4.plot(x_mad4, y_mad4, 'x', color='green', label='Now,with units')\n",
    "plot_mad4.legend()\n",
    "plot_mad4.set_xlabel('Cell_units_threshold^-1 / -')\n",
    "plot_mad4.set_ylabel('Electric energy / eV')\n"
   ]
  },
  {
   "cell_type": "code",
   "execution_count": null,
   "id": "spread-recovery",
   "metadata": {},
   "outputs": [],
   "source": []
  },
  {
   "cell_type": "code",
   "execution_count": null,
   "id": "narrative-enforcement",
   "metadata": {},
   "outputs": [],
   "source": []
  },
  {
   "cell_type": "code",
   "execution_count": null,
   "id": "forward-subcommittee",
   "metadata": {},
   "outputs": [],
   "source": []
  }
 ],
 "metadata": {
  "kernelspec": {
   "display_name": "Python 3",
   "language": "python",
   "name": "python3"
  },
  "language_info": {
   "codemirror_mode": {
    "name": "ipython",
    "version": 3
   },
   "file_extension": ".py",
   "mimetype": "text/x-python",
   "name": "python",
   "nbconvert_exporter": "python",
   "pygments_lexer": "ipython3",
   "version": "3.8.5"
  }
 },
 "nbformat": 4,
 "nbformat_minor": 5
}
